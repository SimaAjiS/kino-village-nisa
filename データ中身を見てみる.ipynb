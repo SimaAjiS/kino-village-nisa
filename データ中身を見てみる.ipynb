{
 "cells": [
  {
   "cell_type": "code",
   "execution_count": 237,
   "outputs": [],
   "source": [
    "import pandas as pd"
   ],
   "metadata": {
    "collapsed": false,
    "ExecuteTime": {
     "end_time": "2023-06-22T13:56:42.788647Z",
     "start_time": "2023-06-22T13:56:42.759579Z"
    }
   }
  },
  {
   "cell_type": "code",
   "execution_count": 238,
   "outputs": [],
   "source": [
    "def format_csv2df(csv_file):\n",
    "    # CSV読み込み\n",
    "    cols = ['受渡日', 'ファンド名', '数量［口］', '単価', '受渡金額/(ポイント利用)[円]']\n",
    "    df = pd.read_csv(csv_file, encoding='shift-jis', parse_dates=['受渡日'], usecols=cols)\n",
    "\n",
    "    # str型をint型に変換 &ポイント利用(100)などの表記削除\n",
    "    df['数量［口］'] = df['数量［口］'].str.replace(',', '').astype(int)\n",
    "    df['単価'] = df['単価'].str.replace(',', '').astype(int)\n",
    "    df['受渡金額/(ポイント利用)[円]'] = df['受渡金額/(ポイント利用)[円]'].str.replace('\\(\\d+\\)', '', regex=True)\n",
    "    df['受渡金額/(ポイント利用)[円]'] = df['受渡金額/(ポイント利用)[円]'].str.replace(',', '').astype(int)\n",
    "\n",
    "    # ファンド名の表記ゆれ修正\n",
    "    d = {'楽天・全世界株式インデックス・ファンド（楽天・バンガード・ファンド（全世界株式））': '楽天・全世界株式',\n",
    "         '楽天・全世界株式インデックス・ファンド(楽天・VT)': '楽天・全世界株式',\n",
    "         '楽天・全米株式インデックス・ファンド（楽天・バンガード・ファンド（全米株式））': '楽天・全米株式',\n",
    "         '楽天・全米株式インデックス・ファンド(楽天・VTI)': '楽天・全米株式',\n",
    "         '三井住友・DC年金バランス30(債券重点型)(マイパッケージ)': '三井住友・DC年金バランス30',\n",
    "         'eMAXIS Slim 米国株式(S&P500)': 'eMAXIS Slim 米国株式(S&P500)',\n",
    "         'eMAXIS Slim 新興国株式インデックス': 'eMAXIS Slim 新興国株式',\n",
    "         'eMAXIS Slim 全世界株式(オール・カントリー)': 'eMAXIS Slim 全世界株式'\n",
    "         }\n",
    "    df['ファンド名'] = df['ファンド名'].replace(d)\n",
    "\n",
    "    # 後の集計用に年月でまとめる\n",
    "    df['受渡年月'] = df['受渡日'].dt.to_period('M')\n",
    "    df = df[['受渡日', '受渡年月', 'ファンド名', '数量［口］', '単価', '受渡金額/(ポイント利用)[円]']]\n",
    "\n",
    "    # カラム名簡易化\n",
    "    df.columns = ['受渡日', '受渡年月', 'ファンド名', '数量', '単価', '受渡金額']\n",
    "\n",
    "    return df"
   ],
   "metadata": {
    "collapsed": false,
    "ExecuteTime": {
     "end_time": "2023-06-22T13:56:42.789087Z",
     "start_time": "2023-06-22T13:56:42.765635Z"
    }
   }
  },
  {
   "cell_type": "code",
   "execution_count": 239,
   "outputs": [
    {
     "data": {
      "text/plain": "         受渡日     受渡年月                     ファンド名    数量     単価  受渡金額\n0 2021-12-14  2021-12                  楽天・全世界株式  3074  16267  5000\n1 2021-12-14  2021-12                   楽天・全米株式  2548  19627  5000\n2 2021-12-15  2021-12         eMAXIS Slim 新興国株式  2326  12897  3000\n3 2021-12-14  2021-12  eMAXIS Slim 米国株式(S&P500)  2684  18629  5000\n4 2022-01-17  2022-01                  楽天・全世界株式  2425  16497  4000",
      "text/html": "<div>\n<style scoped>\n    .dataframe tbody tr th:only-of-type {\n        vertical-align: middle;\n    }\n\n    .dataframe tbody tr th {\n        vertical-align: top;\n    }\n\n    .dataframe thead th {\n        text-align: right;\n    }\n</style>\n<table border=\"1\" class=\"dataframe\">\n  <thead>\n    <tr style=\"text-align: right;\">\n      <th></th>\n      <th>受渡日</th>\n      <th>受渡年月</th>\n      <th>ファンド名</th>\n      <th>数量</th>\n      <th>単価</th>\n      <th>受渡金額</th>\n    </tr>\n  </thead>\n  <tbody>\n    <tr>\n      <th>0</th>\n      <td>2021-12-14</td>\n      <td>2021-12</td>\n      <td>楽天・全世界株式</td>\n      <td>3074</td>\n      <td>16267</td>\n      <td>5000</td>\n    </tr>\n    <tr>\n      <th>1</th>\n      <td>2021-12-14</td>\n      <td>2021-12</td>\n      <td>楽天・全米株式</td>\n      <td>2548</td>\n      <td>19627</td>\n      <td>5000</td>\n    </tr>\n    <tr>\n      <th>2</th>\n      <td>2021-12-15</td>\n      <td>2021-12</td>\n      <td>eMAXIS Slim 新興国株式</td>\n      <td>2326</td>\n      <td>12897</td>\n      <td>3000</td>\n    </tr>\n    <tr>\n      <th>3</th>\n      <td>2021-12-14</td>\n      <td>2021-12</td>\n      <td>eMAXIS Slim 米国株式(S&amp;P500)</td>\n      <td>2684</td>\n      <td>18629</td>\n      <td>5000</td>\n    </tr>\n    <tr>\n      <th>4</th>\n      <td>2022-01-17</td>\n      <td>2022-01</td>\n      <td>楽天・全世界株式</td>\n      <td>2425</td>\n      <td>16497</td>\n      <td>4000</td>\n    </tr>\n  </tbody>\n</table>\n</div>"
     },
     "execution_count": 239,
     "metadata": {},
     "output_type": "execute_result"
    }
   ],
   "source": [
    "input = 'src/tradehistory(INVST)_20230619.csv'\n",
    "df = format_csv2df(input)\n",
    "df.head()"
   ],
   "metadata": {
    "collapsed": false,
    "ExecuteTime": {
     "end_time": "2023-06-22T13:56:42.797388Z",
     "start_time": "2023-06-22T13:56:42.768382Z"
    }
   }
  },
  {
   "cell_type": "code",
   "execution_count": 240,
   "outputs": [
    {
     "name": "stdout",
     "output_type": "stream",
     "text": [
      "<class 'pandas.core.frame.DataFrame'>\n",
      "RangeIndex: 111 entries, 0 to 110\n",
      "Data columns (total 6 columns):\n",
      " #   Column  Non-Null Count  Dtype         \n",
      "---  ------  --------------  -----         \n",
      " 0   受渡日     111 non-null    datetime64[ns]\n",
      " 1   受渡年月    111 non-null    period[M]     \n",
      " 2   ファンド名   111 non-null    object        \n",
      " 3   数量      111 non-null    int64         \n",
      " 4   単価      111 non-null    int64         \n",
      " 5   受渡金額    111 non-null    int64         \n",
      "dtypes: datetime64[ns](1), int64(3), object(1), period[M](1)\n",
      "memory usage: 5.3+ KB\n"
     ]
    }
   ],
   "source": [
    "df.info()"
   ],
   "metadata": {
    "collapsed": false,
    "ExecuteTime": {
     "end_time": "2023-06-22T13:56:42.797523Z",
     "start_time": "2023-06-22T13:56:42.784507Z"
    }
   }
  },
  {
   "cell_type": "code",
   "execution_count": 241,
   "outputs": [],
   "source": [
    "# import pygwalker as pyg\n",
    "# pyg.walk(df)"
   ],
   "metadata": {
    "collapsed": false,
    "ExecuteTime": {
     "end_time": "2023-06-22T13:56:42.797649Z",
     "start_time": "2023-06-22T13:56:42.788287Z"
    }
   }
  },
  {
   "cell_type": "code",
   "execution_count": 242,
   "outputs": [
    {
     "data": {
      "text/plain": "         受渡日     受渡年月                     ファンド名    数量     単価  受渡金額\n0 2021-12-14  2021-12                  楽天・全世界株式  3074  16267  5000\n1 2021-12-14  2021-12                   楽天・全米株式  2548  19627  5000\n2 2021-12-15  2021-12         eMAXIS Slim 新興国株式  2326  12897  3000\n3 2021-12-14  2021-12  eMAXIS Slim 米国株式(S&P500)  2684  18629  5000\n4 2022-01-17  2022-01                  楽天・全世界株式  2425  16497  4000",
      "text/html": "<div>\n<style scoped>\n    .dataframe tbody tr th:only-of-type {\n        vertical-align: middle;\n    }\n\n    .dataframe tbody tr th {\n        vertical-align: top;\n    }\n\n    .dataframe thead th {\n        text-align: right;\n    }\n</style>\n<table border=\"1\" class=\"dataframe\">\n  <thead>\n    <tr style=\"text-align: right;\">\n      <th></th>\n      <th>受渡日</th>\n      <th>受渡年月</th>\n      <th>ファンド名</th>\n      <th>数量</th>\n      <th>単価</th>\n      <th>受渡金額</th>\n    </tr>\n  </thead>\n  <tbody>\n    <tr>\n      <th>0</th>\n      <td>2021-12-14</td>\n      <td>2021-12</td>\n      <td>楽天・全世界株式</td>\n      <td>3074</td>\n      <td>16267</td>\n      <td>5000</td>\n    </tr>\n    <tr>\n      <th>1</th>\n      <td>2021-12-14</td>\n      <td>2021-12</td>\n      <td>楽天・全米株式</td>\n      <td>2548</td>\n      <td>19627</td>\n      <td>5000</td>\n    </tr>\n    <tr>\n      <th>2</th>\n      <td>2021-12-15</td>\n      <td>2021-12</td>\n      <td>eMAXIS Slim 新興国株式</td>\n      <td>2326</td>\n      <td>12897</td>\n      <td>3000</td>\n    </tr>\n    <tr>\n      <th>3</th>\n      <td>2021-12-14</td>\n      <td>2021-12</td>\n      <td>eMAXIS Slim 米国株式(S&amp;P500)</td>\n      <td>2684</td>\n      <td>18629</td>\n      <td>5000</td>\n    </tr>\n    <tr>\n      <th>4</th>\n      <td>2022-01-17</td>\n      <td>2022-01</td>\n      <td>楽天・全世界株式</td>\n      <td>2425</td>\n      <td>16497</td>\n      <td>4000</td>\n    </tr>\n  </tbody>\n</table>\n</div>"
     },
     "execution_count": 242,
     "metadata": {},
     "output_type": "execute_result"
    }
   ],
   "source": [
    "df.head()"
   ],
   "metadata": {
    "collapsed": false,
    "ExecuteTime": {
     "end_time": "2023-06-22T13:56:42.797829Z",
     "start_time": "2023-06-22T13:56:42.793435Z"
    }
   }
  },
  {
   "cell_type": "code",
   "execution_count": 243,
   "outputs": [],
   "source": [
    "# df.columns"
   ],
   "metadata": {
    "collapsed": false,
    "ExecuteTime": {
     "end_time": "2023-06-22T13:56:42.797894Z",
     "start_time": "2023-06-22T13:56:42.795486Z"
    }
   }
  },
  {
   "cell_type": "markdown",
   "source": [
    "# 2023/06/22 期間中の損益額、損益率を求める！"
   ],
   "metadata": {
    "collapsed": false
   }
  },
  {
   "cell_type": "code",
   "execution_count": 244,
   "outputs": [
    {
     "data": {
      "text/plain": "                              数量    受渡金額\nファンド名                                   \neMAXIS Slim 全世界株式          49207   83000\neMAXIS Slim 新興国株式          68500   86000\neMAXIS Slim 米国株式(S&P500)   40413   77000\n三井住友・DC年金バランス30           103797  170000\n楽天・全世界株式                   53592   88000\n楽天・全米株式                    39132   77000",
      "text/html": "<div>\n<style scoped>\n    .dataframe tbody tr th:only-of-type {\n        vertical-align: middle;\n    }\n\n    .dataframe tbody tr th {\n        vertical-align: top;\n    }\n\n    .dataframe thead th {\n        text-align: right;\n    }\n</style>\n<table border=\"1\" class=\"dataframe\">\n  <thead>\n    <tr style=\"text-align: right;\">\n      <th></th>\n      <th>数量</th>\n      <th>受渡金額</th>\n    </tr>\n    <tr>\n      <th>ファンド名</th>\n      <th></th>\n      <th></th>\n    </tr>\n  </thead>\n  <tbody>\n    <tr>\n      <th>eMAXIS Slim 全世界株式</th>\n      <td>49207</td>\n      <td>83000</td>\n    </tr>\n    <tr>\n      <th>eMAXIS Slim 新興国株式</th>\n      <td>68500</td>\n      <td>86000</td>\n    </tr>\n    <tr>\n      <th>eMAXIS Slim 米国株式(S&amp;P500)</th>\n      <td>40413</td>\n      <td>77000</td>\n    </tr>\n    <tr>\n      <th>三井住友・DC年金バランス30</th>\n      <td>103797</td>\n      <td>170000</td>\n    </tr>\n    <tr>\n      <th>楽天・全世界株式</th>\n      <td>53592</td>\n      <td>88000</td>\n    </tr>\n    <tr>\n      <th>楽天・全米株式</th>\n      <td>39132</td>\n      <td>77000</td>\n    </tr>\n  </tbody>\n</table>\n</div>"
     },
     "execution_count": 244,
     "metadata": {},
     "output_type": "execute_result"
    }
   ],
   "source": [
    "# 期間中のファンド毎の所持数量（口数）と総受渡金額(ファンド別総積立額)\n",
    "df_by_found = df[['ファンド名', '数量', '受渡金額']].groupby('ファンド名').sum()\n",
    "df_by_found"
   ],
   "metadata": {
    "collapsed": false,
    "ExecuteTime": {
     "end_time": "2023-06-22T13:56:42.807821Z",
     "start_time": "2023-06-22T13:56:42.801262Z"
    }
   }
  },
  {
   "cell_type": "code",
   "execution_count": 245,
   "outputs": [],
   "source": [
    "# 期間最終月におけるファンド毎の資産価値\n",
    "# df[['受渡日', '受渡年月', 'ファンド名', '数量', '単価', '受渡金額']].tail(7)"
   ],
   "metadata": {
    "collapsed": false,
    "ExecuteTime": {
     "end_time": "2023-06-22T13:56:42.808043Z",
     "start_time": "2023-06-22T13:56:42.804501Z"
    }
   }
  },
  {
   "cell_type": "code",
   "execution_count": 246,
   "outputs": [
    {
     "data": {
      "text/plain": "                        ファンド名     単価\n105                  楽天・全世界株式  18059\n106                   楽天・全米株式  21728\n107         eMAXIS Slim 全世界株式  18616\n108         eMAXIS Slim 新興国株式  13089\n109  eMAXIS Slim 米国株式(S&P500)  21232\n110           三井住友・DC年金バランス30  17102",
      "text/html": "<div>\n<style scoped>\n    .dataframe tbody tr th:only-of-type {\n        vertical-align: middle;\n    }\n\n    .dataframe tbody tr th {\n        vertical-align: top;\n    }\n\n    .dataframe thead th {\n        text-align: right;\n    }\n</style>\n<table border=\"1\" class=\"dataframe\">\n  <thead>\n    <tr style=\"text-align: right;\">\n      <th></th>\n      <th>ファンド名</th>\n      <th>単価</th>\n    </tr>\n  </thead>\n  <tbody>\n    <tr>\n      <th>105</th>\n      <td>楽天・全世界株式</td>\n      <td>18059</td>\n    </tr>\n    <tr>\n      <th>106</th>\n      <td>楽天・全米株式</td>\n      <td>21728</td>\n    </tr>\n    <tr>\n      <th>107</th>\n      <td>eMAXIS Slim 全世界株式</td>\n      <td>18616</td>\n    </tr>\n    <tr>\n      <th>108</th>\n      <td>eMAXIS Slim 新興国株式</td>\n      <td>13089</td>\n    </tr>\n    <tr>\n      <th>109</th>\n      <td>eMAXIS Slim 米国株式(S&amp;P500)</td>\n      <td>21232</td>\n    </tr>\n    <tr>\n      <th>110</th>\n      <td>三井住友・DC年金バランス30</td>\n      <td>17102</td>\n    </tr>\n  </tbody>\n</table>\n</div>"
     },
     "execution_count": 246,
     "metadata": {},
     "output_type": "execute_result"
    }
   ],
   "source": [
    "# 期間最終月を取得する\n",
    "latest_month = df['受渡年月'].unique()[-1].strftime('%Y-%m')\n",
    "# latest_month\n",
    "\n",
    "df_latest_month = df[df['受渡年月'] == latest_month][['ファンド名', '単価']]\n",
    "df_latest_month"
   ],
   "metadata": {
    "collapsed": false,
    "ExecuteTime": {
     "end_time": "2023-06-22T13:56:42.814097Z",
     "start_time": "2023-06-22T13:56:42.807664Z"
    }
   }
  },
  {
   "cell_type": "code",
   "execution_count": 247,
   "outputs": [
    {
     "data": {
      "text/plain": "                      ファンド名     単価      数量    受渡金額\n0                  楽天・全世界株式  18059   53592   88000\n1                   楽天・全米株式  21728   39132   77000\n2         eMAXIS Slim 全世界株式  18616   49207   83000\n3         eMAXIS Slim 新興国株式  13089   68500   86000\n4  eMAXIS Slim 米国株式(S&P500)  21232   40413   77000\n5           三井住友・DC年金バランス30  17102  103797  170000",
      "text/html": "<div>\n<style scoped>\n    .dataframe tbody tr th:only-of-type {\n        vertical-align: middle;\n    }\n\n    .dataframe tbody tr th {\n        vertical-align: top;\n    }\n\n    .dataframe thead th {\n        text-align: right;\n    }\n</style>\n<table border=\"1\" class=\"dataframe\">\n  <thead>\n    <tr style=\"text-align: right;\">\n      <th></th>\n      <th>ファンド名</th>\n      <th>単価</th>\n      <th>数量</th>\n      <th>受渡金額</th>\n    </tr>\n  </thead>\n  <tbody>\n    <tr>\n      <th>0</th>\n      <td>楽天・全世界株式</td>\n      <td>18059</td>\n      <td>53592</td>\n      <td>88000</td>\n    </tr>\n    <tr>\n      <th>1</th>\n      <td>楽天・全米株式</td>\n      <td>21728</td>\n      <td>39132</td>\n      <td>77000</td>\n    </tr>\n    <tr>\n      <th>2</th>\n      <td>eMAXIS Slim 全世界株式</td>\n      <td>18616</td>\n      <td>49207</td>\n      <td>83000</td>\n    </tr>\n    <tr>\n      <th>3</th>\n      <td>eMAXIS Slim 新興国株式</td>\n      <td>13089</td>\n      <td>68500</td>\n      <td>86000</td>\n    </tr>\n    <tr>\n      <th>4</th>\n      <td>eMAXIS Slim 米国株式(S&amp;P500)</td>\n      <td>21232</td>\n      <td>40413</td>\n      <td>77000</td>\n    </tr>\n    <tr>\n      <th>5</th>\n      <td>三井住友・DC年金バランス30</td>\n      <td>17102</td>\n      <td>103797</td>\n      <td>170000</td>\n    </tr>\n  </tbody>\n</table>\n</div>"
     },
     "execution_count": 247,
     "metadata": {},
     "output_type": "execute_result"
    }
   ],
   "source": [
    "# df_by_foundにdf_latest_monthをマージ\n",
    "df_latest = pd.merge(df_latest_month, df_by_found, on='ファンド名')\n",
    "df_latest"
   ],
   "metadata": {
    "collapsed": false,
    "ExecuteTime": {
     "end_time": "2023-06-22T13:56:42.874771Z",
     "start_time": "2023-06-22T13:56:42.818937Z"
    }
   }
  },
  {
   "cell_type": "code",
   "execution_count": 248,
   "outputs": [
    {
     "data": {
      "text/plain": "                      ファンド名  最終月単価(円/1万口)  所持数(口)  受渡金額(円)\n0                  楽天・全世界株式         18059   53592    88000\n1                   楽天・全米株式         21728   39132    77000\n2         eMAXIS Slim 全世界株式         18616   49207    83000\n3         eMAXIS Slim 新興国株式         13089   68500    86000\n4  eMAXIS Slim 米国株式(S&P500)         21232   40413    77000\n5           三井住友・DC年金バランス30         17102  103797   170000",
      "text/html": "<div>\n<style scoped>\n    .dataframe tbody tr th:only-of-type {\n        vertical-align: middle;\n    }\n\n    .dataframe tbody tr th {\n        vertical-align: top;\n    }\n\n    .dataframe thead th {\n        text-align: right;\n    }\n</style>\n<table border=\"1\" class=\"dataframe\">\n  <thead>\n    <tr style=\"text-align: right;\">\n      <th></th>\n      <th>ファンド名</th>\n      <th>最終月単価(円/1万口)</th>\n      <th>所持数(口)</th>\n      <th>受渡金額(円)</th>\n    </tr>\n  </thead>\n  <tbody>\n    <tr>\n      <th>0</th>\n      <td>楽天・全世界株式</td>\n      <td>18059</td>\n      <td>53592</td>\n      <td>88000</td>\n    </tr>\n    <tr>\n      <th>1</th>\n      <td>楽天・全米株式</td>\n      <td>21728</td>\n      <td>39132</td>\n      <td>77000</td>\n    </tr>\n    <tr>\n      <th>2</th>\n      <td>eMAXIS Slim 全世界株式</td>\n      <td>18616</td>\n      <td>49207</td>\n      <td>83000</td>\n    </tr>\n    <tr>\n      <th>3</th>\n      <td>eMAXIS Slim 新興国株式</td>\n      <td>13089</td>\n      <td>68500</td>\n      <td>86000</td>\n    </tr>\n    <tr>\n      <th>4</th>\n      <td>eMAXIS Slim 米国株式(S&amp;P500)</td>\n      <td>21232</td>\n      <td>40413</td>\n      <td>77000</td>\n    </tr>\n    <tr>\n      <th>5</th>\n      <td>三井住友・DC年金バランス30</td>\n      <td>17102</td>\n      <td>103797</td>\n      <td>170000</td>\n    </tr>\n  </tbody>\n</table>\n</div>"
     },
     "execution_count": 248,
     "metadata": {},
     "output_type": "execute_result"
    }
   ],
   "source": [
    "# カラム名を分かりやすく変更\n",
    "df_latest.columns = ['ファンド名', '最終月単価(円/1万口)', '所持数(口)', '受渡金額(円)']\n",
    "df_latest"
   ],
   "metadata": {
    "collapsed": false,
    "ExecuteTime": {
     "end_time": "2023-06-22T13:56:42.890459Z",
     "start_time": "2023-06-22T13:56:42.825774Z"
    }
   }
  },
  {
   "cell_type": "code",
   "execution_count": 249,
   "outputs": [
    {
     "data": {
      "text/plain": "                      ファンド名  最終月単価(円/1万口)  所持数(口)  受渡金額(円)      資産価値(円)   \n0                  楽天・全世界株式         18059   53592    88000   96781.7928  \\\n1                   楽天・全米株式         21728   39132    77000   85026.0096   \n2         eMAXIS Slim 全世界株式         18616   49207    83000   91603.7512   \n3         eMAXIS Slim 新興国株式         13089   68500    86000   89659.6500   \n4  eMAXIS Slim 米国株式(S&P500)         21232   40413    77000   85804.8816   \n5           三井住友・DC年金バランス30         17102  103797   170000  177513.6294   \n\n      損益額(円)  損益率(％)  \n0  8781.7928    9.98  \n1  8026.0096   10.42  \n2  8603.7512   10.37  \n3  3659.6500    4.26  \n4  8804.8816   11.43  \n5  7513.6294    4.42  ",
      "text/html": "<div>\n<style scoped>\n    .dataframe tbody tr th:only-of-type {\n        vertical-align: middle;\n    }\n\n    .dataframe tbody tr th {\n        vertical-align: top;\n    }\n\n    .dataframe thead th {\n        text-align: right;\n    }\n</style>\n<table border=\"1\" class=\"dataframe\">\n  <thead>\n    <tr style=\"text-align: right;\">\n      <th></th>\n      <th>ファンド名</th>\n      <th>最終月単価(円/1万口)</th>\n      <th>所持数(口)</th>\n      <th>受渡金額(円)</th>\n      <th>資産価値(円)</th>\n      <th>損益額(円)</th>\n      <th>損益率(％)</th>\n    </tr>\n  </thead>\n  <tbody>\n    <tr>\n      <th>0</th>\n      <td>楽天・全世界株式</td>\n      <td>18059</td>\n      <td>53592</td>\n      <td>88000</td>\n      <td>96781.7928</td>\n      <td>8781.7928</td>\n      <td>9.98</td>\n    </tr>\n    <tr>\n      <th>1</th>\n      <td>楽天・全米株式</td>\n      <td>21728</td>\n      <td>39132</td>\n      <td>77000</td>\n      <td>85026.0096</td>\n      <td>8026.0096</td>\n      <td>10.42</td>\n    </tr>\n    <tr>\n      <th>2</th>\n      <td>eMAXIS Slim 全世界株式</td>\n      <td>18616</td>\n      <td>49207</td>\n      <td>83000</td>\n      <td>91603.7512</td>\n      <td>8603.7512</td>\n      <td>10.37</td>\n    </tr>\n    <tr>\n      <th>3</th>\n      <td>eMAXIS Slim 新興国株式</td>\n      <td>13089</td>\n      <td>68500</td>\n      <td>86000</td>\n      <td>89659.6500</td>\n      <td>3659.6500</td>\n      <td>4.26</td>\n    </tr>\n    <tr>\n      <th>4</th>\n      <td>eMAXIS Slim 米国株式(S&amp;P500)</td>\n      <td>21232</td>\n      <td>40413</td>\n      <td>77000</td>\n      <td>85804.8816</td>\n      <td>8804.8816</td>\n      <td>11.43</td>\n    </tr>\n    <tr>\n      <th>5</th>\n      <td>三井住友・DC年金バランス30</td>\n      <td>17102</td>\n      <td>103797</td>\n      <td>170000</td>\n      <td>177513.6294</td>\n      <td>7513.6294</td>\n      <td>4.42</td>\n    </tr>\n  </tbody>\n</table>\n</div>"
     },
     "execution_count": 249,
     "metadata": {},
     "output_type": "execute_result"
    }
   ],
   "source": [
    "# 最新単価 ✕ 所持数量から資産額\n",
    "df_latest['資産価値(円)'] = (df_latest['最終月単価(円/1万口)'] / 10000) * df_latest['所持数(口)']\n",
    "\n",
    "# 資産価値 - 受渡金額よりファンド毎の損益計算\n",
    "df_latest['損益額(円)'] = df_latest['資産価値(円)'] - df_latest['受渡金額(円)']\n",
    "df_latest['損益率(％)'] = round(\n",
    "    ((df_latest['資産価値(円)'] - df_latest['受渡金額(円)']) / df_latest['受渡金額(円)']) * 100, 2)\n",
    "\n",
    "df_latest"
   ],
   "metadata": {
    "collapsed": false,
    "ExecuteTime": {
     "end_time": "2023-06-22T13:56:42.920866Z",
     "start_time": "2023-06-22T13:56:42.830959Z"
    }
   }
  },
  {
   "cell_type": "code",
   "execution_count": 251,
   "outputs": [
    {
     "name": "stdout",
     "output_type": "stream",
     "text": [
      "評価額：+45389円, +7.81%\n"
     ]
    }
   ],
   "source": [
    "# 期間中の総資産価値\n",
    "total_reserve = df_latest['受渡金額(円)'].sum()\n",
    "total_asset_value = df_latest['資産価値(円)'].sum()\n",
    "total_profit_amount = int(df_latest['損益額(円)'].sum())\n",
    "total_profit_rate = round(((total_asset_value - total_reserve) / total_reserve) * 100, 2)\n",
    "\n",
    "if total_profit_amount > 0:\n",
    "    print(f'評価額：+{total_profit_amount}円, +{total_profit_rate}%')\n",
    "else:\n",
    "    print(f'評価額：-{total_profit_amount}円, -{total_profit_rate}%')"
   ],
   "metadata": {
    "collapsed": false,
    "ExecuteTime": {
     "end_time": "2023-06-22T14:01:19.097630Z",
     "start_time": "2023-06-22T14:01:19.089517Z"
    }
   }
  },
  {
   "cell_type": "markdown",
   "source": [
    "## 評価額：+45389円, +7.81% （計算には最終購入時の単価）\n",
    "## 楽天証券のマイページには +65196円, +11.22% （計算には最新版単価）"
   ],
   "metadata": {
    "collapsed": false
   }
  }
 ],
 "metadata": {
  "kernelspec": {
   "display_name": "Python 3",
   "language": "python",
   "name": "python3"
  },
  "language_info": {
   "codemirror_mode": {
    "name": "ipython",
    "version": 2
   },
   "file_extension": ".py",
   "mimetype": "text/x-python",
   "name": "python",
   "nbconvert_exporter": "python",
   "pygments_lexer": "ipython2",
   "version": "2.7.6"
  }
 },
 "nbformat": 4,
 "nbformat_minor": 0
}
