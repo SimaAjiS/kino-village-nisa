{
 "cells": [
  {
   "cell_type": "code",
   "execution_count": 95,
   "metadata": {
    "collapsed": true,
    "ExecuteTime": {
     "end_time": "2023-06-19T15:16:29.968239Z",
     "start_time": "2023-06-19T15:16:29.963197Z"
    }
   },
   "outputs": [],
   "source": [
    "import pandas as pd"
   ]
  },
  {
   "cell_type": "code",
   "execution_count": 96,
   "outputs": [
    {
     "data": {
      "text/plain": "         約定日        受渡日                                      ファンド名   分配金   \n0  2021/12/9 2021-12-14  楽天・全世界株式インデックス・ファンド（楽天・バンガード・ファンド（全世界株式））  再投資型  \\\n1  2021/12/9 2021-12-14    楽天・全米株式インデックス・ファンド（楽天・バンガード・ファンド（全米株式））  再投資型   \n2  2021/12/9 2021-12-15                    eMAXIS Slim 新興国株式インデックス  再投資型   \n3  2021/12/9 2021-12-14                   eMAXIS Slim 米国株式(S&P500)  再投資型   \n4  2022/1/12 2022-01-17  楽天・全世界株式インデックス・ファンド（楽天・バンガード・ファンド（全世界株式））  再投資型   \n\n         口座  取引 買付方法  数量［口］      単価  経費 為替レート 受付金額[現地通貨] 受渡金額/(ポイント利用)[円] 決済通貨  \n0  つみたてNISA  買付   積立  3,074  16,267   0     -          -            5,000    円  \n1  つみたてNISA  買付   積立  2,548  19,627   0     -          -       5,000(100)    円  \n2  つみたてNISA  買付   積立  2,326  12,897   0     -          -            3,000    円  \n3  つみたてNISA  買付   積立  2,684  18,629   0     -          -            5,000    円  \n4  つみたてNISA  買付   積立  2,425  16,497   0     -          -            4,000    円  ",
      "text/html": "<div>\n<style scoped>\n    .dataframe tbody tr th:only-of-type {\n        vertical-align: middle;\n    }\n\n    .dataframe tbody tr th {\n        vertical-align: top;\n    }\n\n    .dataframe thead th {\n        text-align: right;\n    }\n</style>\n<table border=\"1\" class=\"dataframe\">\n  <thead>\n    <tr style=\"text-align: right;\">\n      <th></th>\n      <th>約定日</th>\n      <th>受渡日</th>\n      <th>ファンド名</th>\n      <th>分配金</th>\n      <th>口座</th>\n      <th>取引</th>\n      <th>買付方法</th>\n      <th>数量［口］</th>\n      <th>単価</th>\n      <th>経費</th>\n      <th>為替レート</th>\n      <th>受付金額[現地通貨]</th>\n      <th>受渡金額/(ポイント利用)[円]</th>\n      <th>決済通貨</th>\n    </tr>\n  </thead>\n  <tbody>\n    <tr>\n      <th>0</th>\n      <td>2021/12/9</td>\n      <td>2021-12-14</td>\n      <td>楽天・全世界株式インデックス・ファンド（楽天・バンガード・ファンド（全世界株式））</td>\n      <td>再投資型</td>\n      <td>つみたてNISA</td>\n      <td>買付</td>\n      <td>積立</td>\n      <td>3,074</td>\n      <td>16,267</td>\n      <td>0</td>\n      <td>-</td>\n      <td>-</td>\n      <td>5,000</td>\n      <td>円</td>\n    </tr>\n    <tr>\n      <th>1</th>\n      <td>2021/12/9</td>\n      <td>2021-12-14</td>\n      <td>楽天・全米株式インデックス・ファンド（楽天・バンガード・ファンド（全米株式））</td>\n      <td>再投資型</td>\n      <td>つみたてNISA</td>\n      <td>買付</td>\n      <td>積立</td>\n      <td>2,548</td>\n      <td>19,627</td>\n      <td>0</td>\n      <td>-</td>\n      <td>-</td>\n      <td>5,000(100)</td>\n      <td>円</td>\n    </tr>\n    <tr>\n      <th>2</th>\n      <td>2021/12/9</td>\n      <td>2021-12-15</td>\n      <td>eMAXIS Slim 新興国株式インデックス</td>\n      <td>再投資型</td>\n      <td>つみたてNISA</td>\n      <td>買付</td>\n      <td>積立</td>\n      <td>2,326</td>\n      <td>12,897</td>\n      <td>0</td>\n      <td>-</td>\n      <td>-</td>\n      <td>3,000</td>\n      <td>円</td>\n    </tr>\n    <tr>\n      <th>3</th>\n      <td>2021/12/9</td>\n      <td>2021-12-14</td>\n      <td>eMAXIS Slim 米国株式(S&amp;P500)</td>\n      <td>再投資型</td>\n      <td>つみたてNISA</td>\n      <td>買付</td>\n      <td>積立</td>\n      <td>2,684</td>\n      <td>18,629</td>\n      <td>0</td>\n      <td>-</td>\n      <td>-</td>\n      <td>5,000</td>\n      <td>円</td>\n    </tr>\n    <tr>\n      <th>4</th>\n      <td>2022/1/12</td>\n      <td>2022-01-17</td>\n      <td>楽天・全世界株式インデックス・ファンド（楽天・バンガード・ファンド（全世界株式））</td>\n      <td>再投資型</td>\n      <td>つみたてNISA</td>\n      <td>買付</td>\n      <td>積立</td>\n      <td>2,425</td>\n      <td>16,497</td>\n      <td>0</td>\n      <td>-</td>\n      <td>-</td>\n      <td>4,000</td>\n      <td>円</td>\n    </tr>\n  </tbody>\n</table>\n</div>"
     },
     "execution_count": 96,
     "metadata": {},
     "output_type": "execute_result"
    }
   ],
   "source": [
    "df = pd.read_csv('src/tradehistory(INVST)_20230619.csv', encoding='shift-jis', parse_dates=['受渡日'])\n",
    "df.head()"
   ],
   "metadata": {
    "collapsed": false,
    "ExecuteTime": {
     "end_time": "2023-06-19T15:16:29.981572Z",
     "start_time": "2023-06-19T15:16:29.968580Z"
    }
   }
  },
  {
   "cell_type": "code",
   "execution_count": 97,
   "outputs": [
    {
     "data": {
      "text/plain": "Index(['約定日', '受渡日', 'ファンド名', '分配金', '口座', '取引', '買付方法', '数量［口］', '単価', '経費',\n       '為替レート', '受付金額[現地通貨]', '受渡金額/(ポイント利用)[円]', '決済通貨'],\n      dtype='object')"
     },
     "execution_count": 97,
     "metadata": {},
     "output_type": "execute_result"
    }
   ],
   "source": [
    "df.columns"
   ],
   "metadata": {
    "collapsed": false,
    "ExecuteTime": {
     "end_time": "2023-06-19T15:16:29.985660Z",
     "start_time": "2023-06-19T15:16:29.981849Z"
    }
   }
  },
  {
   "cell_type": "code",
   "execution_count": 98,
   "outputs": [
    {
     "data": {
      "text/plain": "         受渡日                                      ファンド名  数量［口］      単価   \n0 2021-12-14  楽天・全世界株式インデックス・ファンド（楽天・バンガード・ファンド（全世界株式））  3,074  16,267  \\\n1 2021-12-14    楽天・全米株式インデックス・ファンド（楽天・バンガード・ファンド（全米株式））  2,548  19,627   \n2 2021-12-15                    eMAXIS Slim 新興国株式インデックス  2,326  12,897   \n3 2021-12-14                   eMAXIS Slim 米国株式(S&P500)  2,684  18,629   \n4 2022-01-17  楽天・全世界株式インデックス・ファンド（楽天・バンガード・ファンド（全世界株式））  2,425  16,497   \n\n  受渡金額/(ポイント利用)[円]  \n0            5,000  \n1       5,000(100)  \n2            3,000  \n3            5,000  \n4            4,000  ",
      "text/html": "<div>\n<style scoped>\n    .dataframe tbody tr th:only-of-type {\n        vertical-align: middle;\n    }\n\n    .dataframe tbody tr th {\n        vertical-align: top;\n    }\n\n    .dataframe thead th {\n        text-align: right;\n    }\n</style>\n<table border=\"1\" class=\"dataframe\">\n  <thead>\n    <tr style=\"text-align: right;\">\n      <th></th>\n      <th>受渡日</th>\n      <th>ファンド名</th>\n      <th>数量［口］</th>\n      <th>単価</th>\n      <th>受渡金額/(ポイント利用)[円]</th>\n    </tr>\n  </thead>\n  <tbody>\n    <tr>\n      <th>0</th>\n      <td>2021-12-14</td>\n      <td>楽天・全世界株式インデックス・ファンド（楽天・バンガード・ファンド（全世界株式））</td>\n      <td>3,074</td>\n      <td>16,267</td>\n      <td>5,000</td>\n    </tr>\n    <tr>\n      <th>1</th>\n      <td>2021-12-14</td>\n      <td>楽天・全米株式インデックス・ファンド（楽天・バンガード・ファンド（全米株式））</td>\n      <td>2,548</td>\n      <td>19,627</td>\n      <td>5,000(100)</td>\n    </tr>\n    <tr>\n      <th>2</th>\n      <td>2021-12-15</td>\n      <td>eMAXIS Slim 新興国株式インデックス</td>\n      <td>2,326</td>\n      <td>12,897</td>\n      <td>3,000</td>\n    </tr>\n    <tr>\n      <th>3</th>\n      <td>2021-12-14</td>\n      <td>eMAXIS Slim 米国株式(S&amp;P500)</td>\n      <td>2,684</td>\n      <td>18,629</td>\n      <td>5,000</td>\n    </tr>\n    <tr>\n      <th>4</th>\n      <td>2022-01-17</td>\n      <td>楽天・全世界株式インデックス・ファンド（楽天・バンガード・ファンド（全世界株式））</td>\n      <td>2,425</td>\n      <td>16,497</td>\n      <td>4,000</td>\n    </tr>\n  </tbody>\n</table>\n</div>"
     },
     "execution_count": 98,
     "metadata": {},
     "output_type": "execute_result"
    }
   ],
   "source": [
    "df = df[['受渡日', 'ファンド名', '数量［口］', '単価', '受渡金額/(ポイント利用)[円]']]\n",
    "df.head()"
   ],
   "metadata": {
    "collapsed": false,
    "ExecuteTime": {
     "end_time": "2023-06-19T15:16:29.990717Z",
     "start_time": "2023-06-19T15:16:29.987974Z"
    }
   }
  },
  {
   "cell_type": "code",
   "execution_count": 99,
   "outputs": [
    {
     "name": "stdout",
     "output_type": "stream",
     "text": [
      "<class 'pandas.core.frame.DataFrame'>\n",
      "RangeIndex: 111 entries, 0 to 110\n",
      "Data columns (total 5 columns):\n",
      " #   Column            Non-Null Count  Dtype         \n",
      "---  ------            --------------  -----         \n",
      " 0   受渡日               111 non-null    datetime64[ns]\n",
      " 1   ファンド名             111 non-null    object        \n",
      " 2   数量［口］             111 non-null    object        \n",
      " 3   単価                111 non-null    object        \n",
      " 4   受渡金額/(ポイント利用)[円]  111 non-null    object        \n",
      "dtypes: datetime64[ns](1), object(4)\n",
      "memory usage: 4.5+ KB\n"
     ]
    }
   ],
   "source": [
    "df.info()"
   ],
   "metadata": {
    "collapsed": false,
    "ExecuteTime": {
     "end_time": "2023-06-19T15:16:29.997677Z",
     "start_time": "2023-06-19T15:16:29.995772Z"
    }
   }
  },
  {
   "cell_type": "code",
   "execution_count": 100,
   "outputs": [],
   "source": [
    "# 数量がstr型のため、int型に変換\n",
    "df['数量［口］'] = [int(x) for x in df['数量［口］'].str.replace(',', '')]"
   ],
   "metadata": {
    "collapsed": false,
    "ExecuteTime": {
     "end_time": "2023-06-19T15:16:30.000971Z",
     "start_time": "2023-06-19T15:16:29.998962Z"
    }
   }
  },
  {
   "cell_type": "code",
   "execution_count": 101,
   "outputs": [],
   "source": [
    "# 単価がstr型のため、int型に変換\n",
    "df['単価'] = [int(x) for x in df['単価'].str.replace(',', '')]"
   ],
   "metadata": {
    "collapsed": false,
    "ExecuteTime": {
     "end_time": "2023-06-19T15:16:30.003486Z",
     "start_time": "2023-06-19T15:16:30.002200Z"
    }
   }
  },
  {
   "cell_type": "code",
   "execution_count": 102,
   "outputs": [],
   "source": [
    "# 受渡金額/(ポイント利用)[円]がstr型、int型に変換、かつポイント利用は削除\n",
    "df['受渡金額/(ポイント利用)[円]'] = [x for x in df['受渡金額/(ポイント利用)[円]'].str.replace('(100)', '')]\n",
    "df['受渡金額/(ポイント利用)[円]'] = [int(x) for x in df['受渡金額/(ポイント利用)[円]'].str.replace(',', '')]"
   ],
   "metadata": {
    "collapsed": false,
    "ExecuteTime": {
     "end_time": "2023-06-19T15:16:30.021782Z",
     "start_time": "2023-06-19T15:16:30.005129Z"
    }
   }
  },
  {
   "cell_type": "code",
   "execution_count": 103,
   "outputs": [
    {
     "name": "stdout",
     "output_type": "stream",
     "text": [
      "<class 'pandas.core.frame.DataFrame'>\n",
      "RangeIndex: 111 entries, 0 to 110\n",
      "Data columns (total 5 columns):\n",
      " #   Column            Non-Null Count  Dtype         \n",
      "---  ------            --------------  -----         \n",
      " 0   受渡日               111 non-null    datetime64[ns]\n",
      " 1   ファンド名             111 non-null    object        \n",
      " 2   数量［口］             111 non-null    int64         \n",
      " 3   単価                111 non-null    int64         \n",
      " 4   受渡金額/(ポイント利用)[円]  111 non-null    int64         \n",
      "dtypes: datetime64[ns](1), int64(3), object(1)\n",
      "memory usage: 4.5+ KB\n"
     ]
    }
   ],
   "source": [
    "df.info()"
   ],
   "metadata": {
    "collapsed": false,
    "ExecuteTime": {
     "end_time": "2023-06-19T15:16:30.034762Z",
     "start_time": "2023-06-19T15:16:30.010256Z"
    }
   }
  },
  {
   "cell_type": "code",
   "execution_count": 104,
   "outputs": [
    {
     "data": {
      "text/plain": "         受渡日                                      ファンド名  数量［口］     単価   \n0 2021-12-14  楽天・全世界株式インデックス・ファンド（楽天・バンガード・ファンド（全世界株式））   3074  16267  \\\n1 2021-12-14    楽天・全米株式インデックス・ファンド（楽天・バンガード・ファンド（全米株式））   2548  19627   \n2 2021-12-15                    eMAXIS Slim 新興国株式インデックス   2326  12897   \n3 2021-12-14                   eMAXIS Slim 米国株式(S&P500)   2684  18629   \n4 2022-01-17  楽天・全世界株式インデックス・ファンド（楽天・バンガード・ファンド（全世界株式））   2425  16497   \n\n   受渡金額/(ポイント利用)[円]  \n0              5000  \n1              5000  \n2              3000  \n3              5000  \n4              4000  ",
      "text/html": "<div>\n<style scoped>\n    .dataframe tbody tr th:only-of-type {\n        vertical-align: middle;\n    }\n\n    .dataframe tbody tr th {\n        vertical-align: top;\n    }\n\n    .dataframe thead th {\n        text-align: right;\n    }\n</style>\n<table border=\"1\" class=\"dataframe\">\n  <thead>\n    <tr style=\"text-align: right;\">\n      <th></th>\n      <th>受渡日</th>\n      <th>ファンド名</th>\n      <th>数量［口］</th>\n      <th>単価</th>\n      <th>受渡金額/(ポイント利用)[円]</th>\n    </tr>\n  </thead>\n  <tbody>\n    <tr>\n      <th>0</th>\n      <td>2021-12-14</td>\n      <td>楽天・全世界株式インデックス・ファンド（楽天・バンガード・ファンド（全世界株式））</td>\n      <td>3074</td>\n      <td>16267</td>\n      <td>5000</td>\n    </tr>\n    <tr>\n      <th>1</th>\n      <td>2021-12-14</td>\n      <td>楽天・全米株式インデックス・ファンド（楽天・バンガード・ファンド（全米株式））</td>\n      <td>2548</td>\n      <td>19627</td>\n      <td>5000</td>\n    </tr>\n    <tr>\n      <th>2</th>\n      <td>2021-12-15</td>\n      <td>eMAXIS Slim 新興国株式インデックス</td>\n      <td>2326</td>\n      <td>12897</td>\n      <td>3000</td>\n    </tr>\n    <tr>\n      <th>3</th>\n      <td>2021-12-14</td>\n      <td>eMAXIS Slim 米国株式(S&amp;P500)</td>\n      <td>2684</td>\n      <td>18629</td>\n      <td>5000</td>\n    </tr>\n    <tr>\n      <th>4</th>\n      <td>2022-01-17</td>\n      <td>楽天・全世界株式インデックス・ファンド（楽天・バンガード・ファンド（全世界株式））</td>\n      <td>2425</td>\n      <td>16497</td>\n      <td>4000</td>\n    </tr>\n  </tbody>\n</table>\n</div>"
     },
     "execution_count": 104,
     "metadata": {},
     "output_type": "execute_result"
    }
   ],
   "source": [
    "df.head()"
   ],
   "metadata": {
    "collapsed": false,
    "ExecuteTime": {
     "end_time": "2023-06-19T15:16:30.052565Z",
     "start_time": "2023-06-19T15:16:30.015201Z"
    }
   }
  },
  {
   "cell_type": "code",
   "execution_count": 105,
   "outputs": [
    {
     "data": {
      "text/plain": "Index(['受渡日', 'ファンド名', '数量［口］', '単価', '受渡金額/(ポイント利用)[円]'], dtype='object')"
     },
     "execution_count": 105,
     "metadata": {},
     "output_type": "execute_result"
    }
   ],
   "source": [
    "df.columns"
   ],
   "metadata": {
    "collapsed": false,
    "ExecuteTime": {
     "end_time": "2023-06-19T15:16:30.052951Z",
     "start_time": "2023-06-19T15:16:30.018766Z"
    }
   }
  },
  {
   "cell_type": "code",
   "execution_count": 106,
   "outputs": [
    {
     "data": {
      "text/plain": "           受渡日                                      ファンド名    数量     単価   受渡金額\n0   2021-12-14  楽天・全世界株式インデックス・ファンド（楽天・バンガード・ファンド（全世界株式））  3074  16267   5000\n1   2021-12-14    楽天・全米株式インデックス・ファンド（楽天・バンガード・ファンド（全米株式））  2548  19627   5000\n2   2021-12-15                    eMAXIS Slim 新興国株式インデックス  2326  12897   3000\n3   2021-12-14                   eMAXIS Slim 米国株式(S&P500)  2684  18629   5000\n4   2022-01-17  楽天・全世界株式インデックス・ファンド（楽天・バンガード・ファンド（全世界株式））  2425  16497   4000\n..         ...                                        ...   ...    ...    ...\n106 2023-06-14                 楽天・全米株式インデックス・ファンド(楽天・VTI)  1841  21728   4000\n107 2023-06-15               eMAXIS Slim 全世界株式(オール・カントリー)  2686  18616   5000\n108 2023-06-15                    eMAXIS Slim 新興国株式インデックス  3820  13089   5000\n109 2023-06-14                   eMAXIS Slim 米国株式(S&P500)  1884  21232   4000\n110 2023-06-14            三井住友・DC年金バランス30(債券重点型)(マイパッケージ)  5847  17102  10000\n\n[111 rows x 5 columns]",
      "text/html": "<div>\n<style scoped>\n    .dataframe tbody tr th:only-of-type {\n        vertical-align: middle;\n    }\n\n    .dataframe tbody tr th {\n        vertical-align: top;\n    }\n\n    .dataframe thead th {\n        text-align: right;\n    }\n</style>\n<table border=\"1\" class=\"dataframe\">\n  <thead>\n    <tr style=\"text-align: right;\">\n      <th></th>\n      <th>受渡日</th>\n      <th>ファンド名</th>\n      <th>数量</th>\n      <th>単価</th>\n      <th>受渡金額</th>\n    </tr>\n  </thead>\n  <tbody>\n    <tr>\n      <th>0</th>\n      <td>2021-12-14</td>\n      <td>楽天・全世界株式インデックス・ファンド（楽天・バンガード・ファンド（全世界株式））</td>\n      <td>3074</td>\n      <td>16267</td>\n      <td>5000</td>\n    </tr>\n    <tr>\n      <th>1</th>\n      <td>2021-12-14</td>\n      <td>楽天・全米株式インデックス・ファンド（楽天・バンガード・ファンド（全米株式））</td>\n      <td>2548</td>\n      <td>19627</td>\n      <td>5000</td>\n    </tr>\n    <tr>\n      <th>2</th>\n      <td>2021-12-15</td>\n      <td>eMAXIS Slim 新興国株式インデックス</td>\n      <td>2326</td>\n      <td>12897</td>\n      <td>3000</td>\n    </tr>\n    <tr>\n      <th>3</th>\n      <td>2021-12-14</td>\n      <td>eMAXIS Slim 米国株式(S&amp;P500)</td>\n      <td>2684</td>\n      <td>18629</td>\n      <td>5000</td>\n    </tr>\n    <tr>\n      <th>4</th>\n      <td>2022-01-17</td>\n      <td>楽天・全世界株式インデックス・ファンド（楽天・バンガード・ファンド（全世界株式））</td>\n      <td>2425</td>\n      <td>16497</td>\n      <td>4000</td>\n    </tr>\n    <tr>\n      <th>...</th>\n      <td>...</td>\n      <td>...</td>\n      <td>...</td>\n      <td>...</td>\n      <td>...</td>\n    </tr>\n    <tr>\n      <th>106</th>\n      <td>2023-06-14</td>\n      <td>楽天・全米株式インデックス・ファンド(楽天・VTI)</td>\n      <td>1841</td>\n      <td>21728</td>\n      <td>4000</td>\n    </tr>\n    <tr>\n      <th>107</th>\n      <td>2023-06-15</td>\n      <td>eMAXIS Slim 全世界株式(オール・カントリー)</td>\n      <td>2686</td>\n      <td>18616</td>\n      <td>5000</td>\n    </tr>\n    <tr>\n      <th>108</th>\n      <td>2023-06-15</td>\n      <td>eMAXIS Slim 新興国株式インデックス</td>\n      <td>3820</td>\n      <td>13089</td>\n      <td>5000</td>\n    </tr>\n    <tr>\n      <th>109</th>\n      <td>2023-06-14</td>\n      <td>eMAXIS Slim 米国株式(S&amp;P500)</td>\n      <td>1884</td>\n      <td>21232</td>\n      <td>4000</td>\n    </tr>\n    <tr>\n      <th>110</th>\n      <td>2023-06-14</td>\n      <td>三井住友・DC年金バランス30(債券重点型)(マイパッケージ)</td>\n      <td>5847</td>\n      <td>17102</td>\n      <td>10000</td>\n    </tr>\n  </tbody>\n</table>\n<p>111 rows × 5 columns</p>\n</div>"
     },
     "execution_count": 106,
     "metadata": {},
     "output_type": "execute_result"
    }
   ],
   "source": [
    "df.columns = ['受渡日', 'ファンド名', '数量', '単価', '受渡金額']\n",
    "df"
   ],
   "metadata": {
    "collapsed": false,
    "ExecuteTime": {
     "end_time": "2023-06-19T15:16:30.059780Z",
     "start_time": "2023-06-19T15:16:30.025442Z"
    }
   }
  }
 ],
 "metadata": {
  "kernelspec": {
   "display_name": "Python 3",
   "language": "python",
   "name": "python3"
  },
  "language_info": {
   "codemirror_mode": {
    "name": "ipython",
    "version": 2
   },
   "file_extension": ".py",
   "mimetype": "text/x-python",
   "name": "python",
   "nbconvert_exporter": "python",
   "pygments_lexer": "ipython2",
   "version": "2.7.6"
  }
 },
 "nbformat": 4,
 "nbformat_minor": 0
}
